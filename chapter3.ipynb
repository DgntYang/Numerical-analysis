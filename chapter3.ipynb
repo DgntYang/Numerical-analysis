{
 "cells": [
  {
   "cell_type": "code",
   "execution_count": 2,
   "id": "9feb11e0",
   "metadata": {},
   "outputs": [],
   "source": [
    "import copy\n",
    "import matplotlib.pyplot as plt\n",
    "import numpy as np"
   ]
  },
  {
   "cell_type": "code",
   "execution_count": 6,
   "id": "82d7d6ba",
   "metadata": {},
   "outputs": [
    {
     "name": "stdout",
     "output_type": "stream",
     "text": [
      "[-0.28923, 0.34544, -0.71281, -0.22061, -0.4304, 0.15431, -0.05782, 0.20105, 0.29023]\n"
     ]
    }
   ],
   "source": [
    "def Solve(AugmentedMatrix):\n",
    "    col = AugmentedMatrix.shape[1] #增广矩阵列数\n",
    "    #消元\n",
    "    for i in range(col- 2):\n",
    "        current_column  = AugmentedMatrix[i:,i] \n",
    "        max_index = np.argmax(current_column) + i #寻找最大元\n",
    "        if(AugmentedMatrix[max_index,i] == 0):\n",
    "            print(\"无唯一解\")\n",
    "            return\n",
    "        tempA = AugmentedMatrix[[i,max_index],:].copy()\n",
    "        AugmentedMatrix[[i,max_index],:] = AugmentedMatrix[[max_index,i],:] #交换\n",
    "        AugmentedMatrix[[max_index,i],:] = tempA\n",
    "        l = AugmentedMatrix[i+1:,i] / AugmentedMatrix[i,i] #计算系数\n",
    "        m =  np.tile(AugmentedMatrix[i,:],(l.shape[0],1)) * np.tile(l,(col,1)).T #计算消元时减去的矩阵\n",
    "        AugmentedMatrix[i+1:,:] = AugmentedMatrix[i+1:,:] - m #消元\n",
    "    if(AugmentedMatrix[col - 2,col - 2] == 0):\n",
    "            print(\"无唯一解\")\n",
    "            return\n",
    "   #代入\n",
    "    x = np.zeros(col-1)\n",
    "    for i in range(col-2,-1,-1):\n",
    "        x[i] = (AugmentedMatrix[i,-1] - np.dot(AugmentedMatrix[i,:-1] , x.T)) / AugmentedMatrix[i,i]\n",
    "    return x    \n",
    "                \n",
    "\n",
    "A = np.array([[31,-13,0,0,0,-10,0,0,0],\n",
    "              [-13,35,-9,0,-11,0,0,0,0],\n",
    "              [0,-9,31,-10,0,0,0,0,0],\n",
    "              [0,0,-10,79,-30,0,0,0,-9],\n",
    "              [0,0,0,-30,57,-7,0,-5,0],\n",
    "              [0,0,0,0,-7,47,-30,0,0],\n",
    "              [0,0,0,0,0,-30,41,0,0],\n",
    "              [0,0,0,0,-5,0,0,27,-2],\n",
    "              [0,0,0,-9,0,0,0,-2,29]]) \n",
    "A = A.astype(np.float64)\n",
    "b_ = np.array([-15,27,-23,0,-20,12,-7,7,10])\n",
    "b = b_[:,np.newaxis]\n",
    "#增广矩阵\n",
    "A_ = np.concatenate((A,b), 1)\n",
    "\n",
    "x = Solve(A_)\n",
    "print(np.around(x,5).tolist())"
   ]
  },
  {
   "cell_type": "code",
   "execution_count": 109,
   "id": "2923739d",
   "metadata": {},
   "outputs": [
    {
     "data": {
      "text/plain": [
       "12.359619140625"
      ]
     },
     "execution_count": 109,
     "metadata": {},
     "output_type": "execute_result"
    }
   ],
   "source": [
    "60 * 60 * 36 * 100 / 1024 / 1024"
   ]
  }
 ],
 "metadata": {
  "kernelspec": {
   "display_name": "Python (yangtan3_6)",
   "language": "python",
   "name": "yangtan3_6"
  },
  "language_info": {
   "codemirror_mode": {
    "name": "ipython",
    "version": 3
   },
   "file_extension": ".py",
   "mimetype": "text/x-python",
   "name": "python",
   "nbconvert_exporter": "python",
   "pygments_lexer": "ipython3",
   "version": "3.6.13"
  }
 },
 "nbformat": 4,
 "nbformat_minor": 5
}
