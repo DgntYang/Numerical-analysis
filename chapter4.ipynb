{
 "cells": [
  {
   "cell_type": "code",
   "execution_count": 109,
   "id": "b5e3d51c",
   "metadata": {},
   "outputs": [],
   "source": [
    "# Python\n",
    "# Created by yangtan on 2022/11/8."
   ]
  },
  {
   "cell_type": "code",
   "execution_count": 103,
   "id": "a1ef9bca",
   "metadata": {},
   "outputs": [],
   "source": [
    "import numpy as np\n",
    "import matplotlib.pyplot as plt"
   ]
  },
  {
   "cell_type": "code",
   "execution_count": 104,
   "id": "46b58556",
   "metadata": {},
   "outputs": [],
   "source": [
    "def difference(x, y, g):\n",
    "    x_ = np.array(x)\n",
    "    x_ = np.insert(np.append(x_, x_[-1]), 0, x_[0])\n",
    "    x = x_[:, np.newaxis]\n",
    "    \n",
    "    y_ = np.array(y)\n",
    "    y_ = np.insert(np.append(y_, y_[-1]), 0, y_[0])\n",
    "    y = y_[:, np.newaxis]\n",
    "    \n",
    "    n = x.shape[0]\n",
    "    t = np.zeros((n,2))\n",
    "\n",
    "    table = np.concatenate([x,y,t], 1)\n",
    "    table[0,2] = g[0]\n",
    "    table[n-2,2] = g[1]\n",
    "    for j in range(2,4):\n",
    "        for i in range(n-1):\n",
    "            if (i==0 and j==2) or (i==n-2 and j==2):\n",
    "                continue\n",
    "            if j==2:\n",
    "                table[i,j] = (table[i+1,j-1] - table[i,j-1]) / (table[i+1,0] - table[i,0])\n",
    "            else:\n",
    "                if i >= n-2:\n",
    "                    break\n",
    "                table[i,j] = (table[i+1,j-1] - table[i,j-1]) / (table[i+2,0] - table[i,0])\n",
    "                \n",
    "    return table[1:n-1, -2], table[:n-2, -1]\n",
    "           "
   ]
  },
  {
   "cell_type": "code",
   "execution_count": 113,
   "id": "49644327",
   "metadata": {},
   "outputs": [
    {
     "name": "stdout",
     "output_type": "stream",
     "text": [
      "各区间系数矩阵为：\n",
      "[[ 2.510e+00  8.000e-01 -1.500e-03 -8.500e-03]\n",
      " [ 3.300e+00  7.715e-01 -2.700e-02 -4.500e-03]\n",
      " [ 4.040e+00  7.041e-01 -4.040e-02 -3.700e-03]\n",
      " [ 4.700e+00  6.123e-01 -5.140e-02 -4.090e-02]\n",
      " [ 5.220e+00  3.868e-01 -1.741e-01  1.074e-01]\n",
      " [ 5.540e+00  3.606e-01  1.479e-01 -2.685e-01]\n",
      " [ 5.780e+00 -1.491e-01 -6.575e-01  4.266e-01]\n",
      " [ 5.400e+00 -1.844e-01  6.222e-01 -2.679e-01]\n",
      " [ 5.570e+00  2.565e-01 -1.814e-01  5.490e-02]\n",
      " [ 5.700e+00  5.840e-02 -1.680e-02  5.840e-02]]\n"
     ]
    }
   ],
   "source": [
    "def spline(X, Y, g):\n",
    "    n = len(X)\n",
    "    m = n-1\n",
    "    h = np.array([X[i+1]-X[i] for i in range(n-1)])\n",
    "    \n",
    "    mu = np.array([h[i]/(h[i+1]+h[i]) for i in range(h.shape[0]-1)])\n",
    "    lam = 1-mu\n",
    "    \n",
    "    mu= np.append(mu,1)\n",
    "    lam = np.insert(lam,0,1)\n",
    "    \n",
    "    # 差商表\n",
    "    d1, d2_ = difference(X, Y, g)\n",
    "    #获取三转角方程系数矩阵\n",
    "    d2 = 6*d2_ \n",
    "    A = 2*np.eye(n) + np.diag(lam, k=1) + np.diag(mu, k=-1)\n",
    "    \n",
    "    # 解三转角方程\n",
    "    M = np.linalg.solve(A, d2)\n",
    "    \n",
    "    c = np.zeros((n-1, 4))\n",
    "    a, b = c.shape\n",
    "\n",
    "    for i in range(a):\n",
    "        c[i,0] = Y[i]\n",
    "        c[i,1] = d1[i] - (1/3*M[i] + 1/6*M[i+1]) * h[i] \n",
    "        c[i,2] = 0.5*M[i]\n",
    "        c[i,3] = 1/(6*h[i]) * (M[i+1]-M[i])\n",
    "    \n",
    "    return np.around(c, 4)\n",
    "    \n",
    "x = [i for i in range(11)]\n",
    "y = [2.51, 3.3, 4.04, 4.70, 5.22, 5.54, 5.78, 5.4, 5.57, 5.70, 5.80]\n",
    "g = [0.8, 0.2]\n",
    "c = spline(x, y, g) \n",
    "print('各区间系数矩阵为：')\n",
    "print(c)"
   ]
  },
  {
   "cell_type": "code",
   "execution_count": 106,
   "id": "2695ba6e",
   "metadata": {},
   "outputs": [
    {
     "data": {
      "image/png": "[encoded data removed]",
      "text/plain": [
       "<Figure size 864x576 with 1 Axes>"
      ]
     },
     "metadata": {
      "needs_background": "light"
     },
     "output_type": "display_data"
    }
   ],
   "source": [
    "colors = ['#e50000', '#0343df', '#f97306', '#9a0eea', '#00035b',\n",
    "          '#75bbfd', '#15b01a', '#ffff14', '#ff796c', '#e50000', '#0343df', '#f97306', '#9a0eea', '#00035b',]\n",
    "\n",
    "def plot_a_range(x1, x2, c, color):\n",
    "    x = np.linspace(x1,x2,30)\n",
    "    y = c[0] + c[1]*(x-x1) + c[2]*(x-x1)**2 + c[3]*(x-x1)**3\n",
    "    plt.plot(x, y, color)\n",
    "\n",
    "def plot_figure(x,y,c):\n",
    "    fontsize = 20\n",
    "    plt.figure(figsize = (12,8))\n",
    "    plt.scatter(x,y, color='b', s=300, marker='.', alpha=0.5)\n",
    "    \n",
    "    n = len(x)-1\n",
    "    for i in range(n):\n",
    "        plot_a_range(x[i], x[i+1], c[i,:], 'g')\n",
    "    plt.xlabel('x', fontsize=fontsize)\n",
    "    plt.ylabel('y', fontsize=fontsize, rotation=0)\n",
    "    plt.title('Cubic Spline Interpolation Results', fontsize=fontsize)\n",
    "    plt.show()\n",
    "    \n",
    "plot_figure(x,y,c)    \n",
    "    "
   ]
  },
  {
   "cell_type": "code",
   "execution_count": 108,
   "id": "8e8f0ce7",
   "metadata": {},
   "outputs": [
    {
     "name": "stdout",
     "output_type": "stream",
     "text": [
      "[2.90856, 3.67844, 4.38149, 4.98819, 5.3833, 5.72371, 5.5944, 5.42986, 5.65976, 5.7323]\n"
     ]
    }
   ],
   "source": [
    "def search(x, x0):\n",
    "    n = len(x)\n",
    "    for i in range(n-1):\n",
    "        if x0 >= x[i] and x0 < x[i+1]:\n",
    "            return x[i], x[i+1], i\n",
    "\n",
    "def fit(x0, C):\n",
    "    x1, x2, index = search(x, x0)\n",
    "    c = C[index, :]\n",
    "    return c[0] + c[1]*(x0-x1) + c[2]*(x0-x1)**2 + c[3]*(x0-x1)**3\n",
    "\n",
    "r = []\n",
    "for i in range(10):\n",
    "    x0 = i+0.5\n",
    "    y0 = np.around(fit(x0, c), 5)\n",
    "    r.append(y0)\n",
    "    \n",
    "print(r)"
   ]
  },
  {
   "cell_type": "code",
   "execution_count": null,
   "id": "ce81991b",
   "metadata": {},
   "outputs": [],
   "source": []
  },
  {
   "cell_type": "code",
   "execution_count": null,
   "id": "5f9a2527",
   "metadata": {},
   "outputs": [],
   "source": []
  },
  {
   "cell_type": "code",
   "execution_count": null,
   "id": "11cf4e06",
   "metadata": {},
   "outputs": [],
   "source": []
  },
  {
   "cell_type": "code",
   "execution_count": null,
   "id": "e2d3f9ed",
   "metadata": {},
   "outputs": [],
   "source": []
  }
 ],
 "metadata": {
  "kernelspec": {
   "display_name": "Python (yangtan3_6)",
   "language": "python",
   "name": "yangtan3_6"
  },
  "language_info": {
   "codemirror_mode": {
    "name": "ipython",
    "version": 3
   },
   "file_extension": ".py",
   "mimetype": "text/x-python",
   "name": "python",
   "nbconvert_exporter": "python",
   "pygments_lexer": "ipython3",
   "version": "3.6.13"
  }
 },
 "nbformat": 4,
 "nbformat_minor": 5
}
